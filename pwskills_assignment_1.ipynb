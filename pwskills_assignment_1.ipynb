{
 "cells": [
  {
   "cell_type": "code",
   "execution_count": 1,
   "id": "2b452d6e",
   "metadata": {},
   "outputs": [],
   "source": [
    "#question-->1.What is Python, and why is it popular?\n",
    "\n",
    "#Python is a high-level, interpreted programming language known for its simplicity and readability. \n",
    "#It supports multiple programming paradigms, including procedural, object-oriented, and functional programming. \n",
    "#Python is popular because of its easy-to-learn syntax, vast standard library, and strong community support. \n",
    "#It's widely used in web development, data analysis, artificial intelligence, machine learning, automation, and more. \n",
    "#Its flexibility and integration capabilities with other technologies make it a preferred choice for both beginners and professionals. \n",
    "#Major companies like Google, Netflix, and Instagram use Python, contributing to its growing demand and widespread adoption across various domains."
   ]
  },
  {
   "cell_type": "code",
   "execution_count": 2,
   "id": "ca4726bf",
   "metadata": {},
   "outputs": [],
   "source": [
    "#question-->2.What is an interpreter in Python?\n",
    "\n",
    "#An interpreter in Python is a program that reads and executes Python code line by line. \n",
    "#When you run a Python script, the interpreter processes each statement one at a time, translating it into machine code and executing it immediately. \n",
    "#This makes Python an interpreted language, unlike compiled languages that need to be fully converted into machine code before execution."
   ]
  },
  {
   "cell_type": "code",
   "execution_count": 3,
   "id": "a41870ba",
   "metadata": {},
   "outputs": [],
   "source": [
    "#question-->3.What are pre-defined keywords in Python?\n",
    "\n",
    "#Pre-defined keywords in Python are reserved words that have special meaning and purpose in the language. \n",
    "#These keywords are part of Python's syntax and cannot be used as variable names, function names, or identifiers.\n",
    "#They help define the structure and rules of Python code.\n",
    "\n",
    "#Examples of pre-defined keywords include:\n",
    "#if, else, elif – for conditional statements\n",
    "#for, while, break, continue – for loops"
   ]
  },
  {
   "cell_type": "code",
   "execution_count": 4,
   "id": "7bfbf71d",
   "metadata": {},
   "outputs": [],
   "source": [
    "#question-->4.Can keywords be used as variable names?\n",
    "\n",
    "#keywords cannot be used as variable names in Python.\n",
    "#Python keywords are reserved words that have special meaning in the language's syntax, such as if, while, for, def, class, etc.\n",
    "#Using them as variable names will result in a SyntaxError because the interpreter expects them to be used for their intended purpose."
   ]
  },
  {
   "cell_type": "code",
   "execution_count": 5,
   "id": "d23845f5",
   "metadata": {},
   "outputs": [],
   "source": [
    "#question-->5.What is mutability in Python?\n",
    "\n",
    "#Mutability in Python refers to whether an object’s value can be changed after it is created.\n",
    "#Mutable objects: Can be changed in place.\n",
    "#Examples: list, dict, set, bytearray."
   ]
  },
  {
   "cell_type": "code",
   "execution_count": 6,
   "id": "4199291b",
   "metadata": {},
   "outputs": [],
   "source": [
    "#question-->6.Why are lists mutable, but tuples are immutable?\n",
    "\n",
    "#Lists are mutable and tuples are immutable because of how they are designed in Python's core:\n",
    "#Lists (Mutable)\n",
    "#Lists are meant to store collections of data that may change during the program.\n",
    "#You can add, remove, or modify elements.\n",
    "#Python provides built-in methods like .append(), .pop(), and item assignment (list[0] = value).\n",
    "#Tuples (Immutable)\n",
    "#Tuples are designed for fixed collections of items.\n",
    "#Once created, you cannot change their contents—no addition, deletion, or replacement.\n",
    "#Immutability makes tuples hashable, so they can be used as dictionary keys or in sets, unlike lists."
   ]
  },
  {
   "cell_type": "code",
   "execution_count": 7,
   "id": "47627cce",
   "metadata": {},
   "outputs": [],
   "source": [
    "#question-->7.What is the difference between “==” and “is” operators in Python?\n",
    "\n",
    "#In Python, == and is are both comparison operators, but they serve different purposes:\n",
    "#== (Equality Operator)\n",
    "#Checks if two values are equal.\n",
    "#It compares the contents or data of the objects.\n",
    "# is (Identity Operator)\n",
    "#Checks if two variables point to the same object in memory.\n",
    "#It compares the object identity, not the value."
   ]
  },
  {
   "cell_type": "code",
   "execution_count": 8,
   "id": "eb7c7ab9",
   "metadata": {},
   "outputs": [],
   "source": [
    "#question-->8.What are logical operators in Python?\n",
    "\n",
    "#Logical operators in Python are used to combine conditional statements and return a boolean. \n",
    "#(True or False) based on the logic applied.\n",
    "#and, or, not come under the logical operators in python."
   ]
  },
  {
   "cell_type": "code",
   "execution_count": 9,
   "id": "8d122b0e",
   "metadata": {},
   "outputs": [],
   "source": [
    "#question-->9.What is type casting in Python?\n",
    "\n",
    "#Type casting in Python means converting a value from one data type to another. \n",
    "#It allows you to change the type of a variable (e.g., from string to int, or float to int) so it can be used properly in different operations."
   ]
  },
  {
   "cell_type": "code",
   "execution_count": 10,
   "id": "3a9e3cf9",
   "metadata": {},
   "outputs": [],
   "source": [
    "#question-->10.What is the difference between implicit and explicit type casting?\n",
    "\n",
    "#The difference between implicit and explicit type casting in Python lies in how and when the type conversion happens:\n",
    "\n",
    "#Implicit Type Casting (Automatic)\n",
    "#Done automatically by Python.\n",
    "#Happens when converting compatible types without losing data.\n",
    "#No need for programmer intervention.\n",
    "#Explicit Type Casting (Manual)\n",
    "#Done manually by the programmer.\n",
    "#Uses functions like int(), float(), str(), etc.\n",
    "#Used when automatic conversion doesn't happen or to force a conversion."
   ]
  },
  {
   "cell_type": "code",
   "execution_count": 11,
   "id": "ea5f5e50",
   "metadata": {},
   "outputs": [],
   "source": [
    "#question-->11.What is the purpose of conditional statements in Python?\n",
    "\n",
    "#Conditional statements in Python are used to execute specific blocks of code based on certain conditions. \n",
    "#They allow the program to make decisions and control the flow of execution. \n",
    "#The primary purpose of conditional statements is to enable branching logic, which means that the program can take different paths based on the evaluation of conditions.\n",
    "#if, else, elif, nested if, nested elif come under conditional statements."
   ]
  },
  {
   "cell_type": "code",
   "execution_count": 12,
   "id": "555f97e3",
   "metadata": {},
   "outputs": [],
   "source": [
    "#question-->12.How does the elif statement work?\n",
    "\n",
    "#The elif statement in Python is used as a way to check multiple conditions in a sequence. \n",
    "#It stands for \"else if\" and allows you to specify additional conditions to evaluate if the previous if condition is False. \n",
    "#This helps in creating a chain of conditions that can lead to different outcomes based on which condition is met first.\n",
    "#Here's how the elif statement works:\n",
    "#Initial Condition Check: The program first evaluates the condition in the if statement. \n",
    "#If this condition is True, the block of code under the if statement is executed, and the rest of the elif and else statements are skipped.\n",
    "#Subsequent Condition Checks: If the if condition is False, the program then checks the condition in the first elif statement. \n",
    "#If this condition is True, the corresponding block of code is executed, and the rest of the elif and else statements are skipped.\n",
    "#Multiple elif Statements: You can have multiple elif statements to check additional conditions. \n",
    "#The program will evaluate each elif in order until it finds one that is True.\n",
    "#Final else Statement: If none of the if or elif conditions are True, the code block under the else statement (if present) will be executed."
   ]
  },
  {
   "cell_type": "code",
   "execution_count": 13,
   "id": "25ec6da1",
   "metadata": {},
   "outputs": [],
   "source": [
    "#question-->13.What is the difference between for and while loops?\n",
    "\n",
    "#In Python, both for and while loops are used to execute a block of code repeatedly, but they differ in their structure and use cases. Here are the key differences between the two:\n",
    "#Loop Type\n",
    "#For Loop: A for loop is used to iterate over a sequence (like a list, tuple, string, or range). \n",
    "#It is typically used when the number of iterations is known beforehand.\n",
    "#While Loop: A while loop continues to execute as long as a specified condition is True. \n",
    "#It is used when the number of iterations is not known in advance and depends on a condition being met.\n"
   ]
  },
  {
   "cell_type": "code",
   "execution_count": 14,
   "id": "a10d3aae",
   "metadata": {},
   "outputs": [],
   "source": [
    "#question-->14.Describe a scenario where a while loop is more suitable than a for loop?\n",
    "\n",
    "#A scenario where a while loop is more suitable than a for loop is when you need to repeatedly prompt a user for input until they provide a valid response. \n",
    "#In this case, the number of iterations is not known in advance, as it depends on the user's input.\n",
    "#Example Scenario: User Input Validation\n",
    "#Suppose you are creating a simple program that asks the user to enter a positive integer. \n",
    "#You want to keep prompting the user until they provide a valid input. \n",
    "#This is a perfect use case for a while loop because you don't know how many times the user will need to be prompted."
   ]
  },
  {
   "cell_type": "code",
   "execution_count": 15,
   "id": "f318cc6f",
   "metadata": {},
   "outputs": [
    {
     "name": "stdout",
     "output_type": "stream",
     "text": [
      "Hello, world!\n"
     ]
    }
   ],
   "source": [
    "#practical base question.\n",
    "#question-->Write a Python program to print \"Hello, World!\"?\n",
    "print(\"Hello, world!\")"
   ]
  },
  {
   "cell_type": "code",
   "execution_count": 19,
   "id": "106d392d",
   "metadata": {},
   "outputs": [
    {
     "name": "stdout",
     "output_type": "stream",
     "text": [
      "my name is Rishabh Mishra i am 27 years old\n"
     ]
    }
   ],
   "source": [
    "#question-->2.Write a Python program that displays your name and age?\n",
    "name = \"Rishabh Mishra\"\n",
    "age = \"27\"\n",
    "print(\"my name is {} i am {} years old\".format(name, age))"
   ]
  },
  {
   "cell_type": "code",
   "execution_count": 21,
   "id": "121ae225",
   "metadata": {},
   "outputs": [
    {
     "name": "stdout",
     "output_type": "stream",
     "text": [
      "Predefined keywords in Python {}: ['False', 'None', 'True', 'and', 'as', 'assert', 'async', 'await', 'break', 'class', 'continue', 'def', 'del', 'elif', 'else', 'except', 'finally', 'for', 'from', 'global', 'if', 'import', 'in', 'is', 'lambda', 'nonlocal', 'not', 'or', 'pass', 'raise', 'return', 'try', 'while', 'with', 'yield']\n"
     ]
    }
   ],
   "source": [
    "#question-->3.Write code to print all the pre-defined keywords in Python using the keyword library\n",
    "\n",
    "import keyword\n",
    "keywords = keyword.kwlist\n",
    "print(\"Predefined keywords in Python {}:\",keywords)"
   ]
  },
  {
   "cell_type": "code",
   "execution_count": 5,
   "id": "1657fe9c",
   "metadata": {},
   "outputs": [
    {
     "name": "stdout",
     "output_type": "stream",
     "text": [
      "Enter a word to check if it's a Python keyword: hi\n",
      "'hi' is not a Python keyword.\n"
     ]
    }
   ],
   "source": [
    "#question-->4  Write a program that checks if a given word is a Python keyword.\n",
    "\n",
    "import keyword\n",
    "\n",
    "def is_python_keyword(word):\n",
    "    return keyword.iskeyword(word)\n",
    "word = input(\"Enter a word to check if it's a Python keyword: \")\n",
    "if is_python_keyword(word):\n",
    "    print(f\"'{word}' is a Python keyword.\")\n",
    "else:\n",
    "    print(f\"'{word}' is not a Python keyword.\")\n"
   ]
  },
  {
   "cell_type": "code",
   "execution_count": 19,
   "id": "fd232ce3",
   "metadata": {},
   "outputs": [
    {
     "name": "stdout",
     "output_type": "stream",
     "text": [
      "['apple', 'mango', 'papaya']\n"
     ]
    }
   ],
   "source": [
    "#question-->5.Create a list and tuple in Python, and demonstrate how attempting to change an element works differently for each\n",
    "\n",
    "my_list = [\"apple\", \"mango\", \"orange\"]\n",
    "my_tuple = (\"apple\", \"mango\", \"orange\")\n",
    "my_list.append(\"papaya\") \n",
    "my_list.remove(\"orange\")\n",
    "print(my_list)\n",
    "#tuple is imutable so it won't append or remove and element."
   ]
  },
  {
   "cell_type": "code",
   "execution_count": 24,
   "id": "e8937fc3",
   "metadata": {},
   "outputs": [
    {
     "name": "stdout",
     "output_type": "stream",
     "text": [
      "Before modification:\n",
      "Mutable argument (list): [1, 2, 3]\n",
      "Immutable argument (string): Hello\n",
      "\n",
      "After modifying the mutable argument:\n",
      "Mutable argument (list): [1, 2, 3, 100]\n",
      "\n",
      "After attempting to modify the immutable argument:\n",
      "Immutable argument (string): Hello World\n",
      "\n",
      "Original mutable list after function call:\n",
      "[1, 2, 3, 100]\n"
     ]
    }
   ],
   "source": [
    "#question-->6.  Write a function to demonstrate the behavior of mutable and immutable arguments.\n",
    "def demonstrate_mutability(mutable_arg, immutable_arg):\n",
    "    print(\"Before modification:\")\n",
    "    print(f\"Mutable argument (list): {mutable_arg}\")\n",
    "    print(f\"Immutable argument (string): {immutable_arg}\")\n",
    "\n",
    "    # Modifying the mutable argument\n",
    "    mutable_arg.append(100)\n",
    "    print(\"\\nAfter modifying the mutable argument:\")\n",
    "    print(f\"Mutable argument (list): {mutable_arg}\")\n",
    "\n",
    "    # Attempting to modify the immutable argument\n",
    "    immutable_arg += \" World\"\n",
    "    print(\"\\nAfter attempting to modify the immutable argument:\")\n",
    "    print(f\"Immutable argument (string): {immutable_arg}\")\n",
    "\n",
    "# Example usage\n",
    "mutable_list = [1, 2, 3]\n",
    "immutable_string = \"Hello\"\n",
    "\n",
    "demonstrate_mutability(mutable_list, immutable_string)\n",
    "\n",
    "# Check the original mutable list after the function call\n",
    "print(\"\\nOriginal mutable list after function call:\")\n",
    "print(mutable_list)\n"
   ]
  },
  {
   "cell_type": "code",
   "execution_count": 36,
   "id": "cba92d2e",
   "metadata": {},
   "outputs": [
    {
     "name": "stdout",
     "output_type": "stream",
     "text": [
      "Enter the first number: 5\n",
      "Enter the second number: 3\n",
      "Addition: 5.0 + 3.0 = 8.0\n",
      "Subtraction: 5.0 - 3.0 = 2.0\n",
      "Multiplication: 5.0 * 3.0 = 15.0\n",
      "Division: 5.0 / 3.0 = 1.6666666666666667\n"
     ]
    }
   ],
   "source": [
    "#question-->7. Write a program that performs basic arithmetic operations on two user-input numbers.\n",
    "\n",
    "num1 = float(input(\"Enter the first number: \"))\n",
    "num2 = float(input(\"Enter the second number: \"))\n",
    "\n",
    "addition = num1 + num2\n",
    "subtraction = num1 - num2\n",
    "multiplication = num1 * num2\n",
    "\n",
    "if num2 != 0:\n",
    "    division = num1 / num2\n",
    "else:\n",
    "    division = \"undefined (cannot divide by zero)\"\n",
    "\n",
    "print(f\"Addition: {num1} + {num2} = {addition}\")\n",
    "print(f\"Subtraction: {num1} - {num2} = {subtraction}\")\n",
    "print(f\"Multiplication: {num1} * {num2} = {multiplication}\")\n",
    "print(f\"Division: {num1} / {num2} = {division}\")\n"
   ]
  },
  {
   "cell_type": "code",
   "execution_count": 27,
   "id": "5bb11f6d",
   "metadata": {},
   "outputs": [
    {
     "name": "stdout",
     "output_type": "stream",
     "text": [
      "Enter two boolean values (True or False):\n",
      "Enter the first boolean value: true\n",
      "Enter the second boolean value: false\n",
      "\n",
      "Results of logical operations:\n",
      "True AND False = False\n",
      "True OR False = True\n",
      "NOT True = False\n",
      "NOT False = True\n"
     ]
    }
   ],
   "source": [
    "#question-->8 Write a program to demonstrate the use of logical operators\n",
    "\n",
    "def demonstrate_logical_operators():\n",
    "    # Get user input for two boolean values\n",
    "    print(\"Enter two boolean values (True or False):\")\n",
    "    bool1 = input(\"Enter the first boolean value: \").strip().lower() == 'true'\n",
    "    bool2 = input(\"Enter the second boolean value: \").strip().lower() == 'true'\n",
    "\n",
    "    # Demonstrate logical operators\n",
    "    and_result = bool1 and bool2\n",
    "    or_result = bool1 or bool2\n",
    "    not_bool1 = not bool1\n",
    "    not_bool2 = not bool2\n",
    "\n",
    "    # Display the results\n",
    "    print(\"\\nResults of logical operations:\")\n",
    "    print(f\"{bool1} AND {bool2} = {and_result}\")\n",
    "    print(f\"{bool1} OR {bool2} = {or_result}\")\n",
    "    print(f\"NOT {bool1} = {not_bool1}\")\n",
    "    print(f\"NOT {bool2} = {not_bool2}\")\n",
    "\n",
    "# Example usage\n",
    "demonstrate_logical_operators()\n"
   ]
  },
  {
   "cell_type": "code",
   "execution_count": 28,
   "id": "672bcd5a",
   "metadata": {},
   "outputs": [
    {
     "name": "stdout",
     "output_type": "stream",
     "text": [
      "Enter a value: 2\n",
      "Integer value: 2\n",
      "Float value: 2.0\n",
      "Boolean value: True\n"
     ]
    }
   ],
   "source": [
    "#question-->9. Write a Python program to convert user input from string to integer, float, and boolean types.\n",
    "\n",
    "# Get user input\n",
    "user_input = input(\"Enter a value: \")\n",
    "\n",
    "# Convert to integer\n",
    "try:\n",
    "    int_value = int(user_input)\n",
    "    print(f\"Integer value: {int_value}\")\n",
    "except ValueError:\n",
    "    print(\"Cannot convert to integer.\")\n",
    "\n",
    "# Convert to float\n",
    "try:\n",
    "    float_value = float(user_input)\n",
    "    print(f\"Float value: {float_value}\")\n",
    "except ValueError:\n",
    "    print(\"Cannot convert to float.\")\n",
    "\n",
    "# Convert to boolean\n",
    "# A non-empty string is considered True, and an empty string is considered False\n",
    "bool_value = bool(user_input)\n",
    "print(f\"Boolean value: {bool_value}\")\n"
   ]
  },
  {
   "cell_type": "code",
   "execution_count": 29,
   "id": "4f2084d5",
   "metadata": {},
   "outputs": [
    {
     "name": "stdout",
     "output_type": "stream",
     "text": [
      "Cannot convert '2.5' to integer.\n",
      "Cannot convert '4.75' to integer.\n",
      "\n",
      "Original list of strings: ['1', '2.5', '3', '4.75', '5']\n",
      "Converted to integers: [1, 3, 5]\n",
      "Converted to floats: [1.0, 2.5, 3.0, 4.75, 5.0]\n"
     ]
    }
   ],
   "source": [
    "#question-->10.. Write code to demonstrate type casting with list elements.\n",
    "\n",
    "# Create a list of string representations of numbers\n",
    "string_numbers = [\"1\", \"2.5\", \"3\", \"4.75\", \"5\"]\n",
    "\n",
    "# Convert the list elements to integers\n",
    "int_numbers = []\n",
    "for num in string_numbers:\n",
    "    try:\n",
    "        int_numbers.append(int(num))\n",
    "    except ValueError:\n",
    "        print(f\"Cannot convert '{num}' to integer.\")\n",
    "\n",
    "# Convert the list elements to floats\n",
    "float_numbers = []\n",
    "for num in string_numbers:\n",
    "    try:\n",
    "        float_numbers.append(float(num))\n",
    "    except ValueError:\n",
    "        print(f\"Cannot convert '{num}' to float.\")\n",
    "\n",
    "# Display the results\n",
    "print(\"\\nOriginal list of strings:\", string_numbers)\n",
    "print(\"Converted to integers:\", int_numbers)\n",
    "print(\"Converted to floats:\", float_numbers)\n"
   ]
  },
  {
   "cell_type": "code",
   "execution_count": 30,
   "id": "6400cfb4",
   "metadata": {},
   "outputs": [
    {
     "name": "stdout",
     "output_type": "stream",
     "text": [
      "Enter a number: 5\n",
      "The number is positive.\n"
     ]
    }
   ],
   "source": [
    "#question-->11. Write a program that checks if a number is positive, negative, or zero.\n",
    "\n",
    "# Get user input\n",
    "number = float(input(\"Enter a number: \"))\n",
    "\n",
    "# Check if the number is positive, negative, or zero\n",
    "if number > 0:\n",
    "    print(\"The number is positive.\")\n",
    "elif number < 0:\n",
    "    print(\"The number is negative.\")\n",
    "else:\n",
    "    print(\"The number is zero.\")\n"
   ]
  },
  {
   "cell_type": "code",
   "execution_count": 31,
   "id": "59a19c4d",
   "metadata": {},
   "outputs": [
    {
     "name": "stdout",
     "output_type": "stream",
     "text": [
      "1\n",
      "2\n",
      "3\n",
      "4\n",
      "5\n",
      "6\n",
      "7\n",
      "8\n",
      "9\n",
      "10\n"
     ]
    }
   ],
   "source": [
    "#question-->12. Write a for loop to print numbers from 1 to 10.\n",
    "for number in range(1, 11):\n",
    "    print(number)\n"
   ]
  },
  {
   "cell_type": "code",
   "execution_count": 32,
   "id": "f85559f4",
   "metadata": {},
   "outputs": [
    {
     "name": "stdout",
     "output_type": "stream",
     "text": [
      "The sum of all even numbers between 1 and 50 is: 650\n"
     ]
    }
   ],
   "source": [
    "#question-->13. Write a Python program to find the sum of all even numbers between 1 and 50.\n",
    "\n",
    "sum_of_evens = 0\n",
    "\n",
    "for number in range(1, 51):\n",
    "    if number % 2 == 0:\n",
    "        sum_of_evens += number  \n",
    "print(\"The sum of all even numbers between 1 and 50 is:\", sum_of_evens)\n"
   ]
  },
  {
   "cell_type": "code",
   "execution_count": 33,
   "id": "8ebbf078",
   "metadata": {},
   "outputs": [
    {
     "name": "stdout",
     "output_type": "stream",
     "text": [
      "Enter a string: 1,23,45,32\n",
      "Reversed string: 23,54,32,1\n"
     ]
    }
   ],
   "source": [
    "#question-->14. Write a program to reverse a string using a while loop.\n",
    "\n",
    "user_input = input(\"Enter a string: \")\n",
    "\n",
    "reversed_string = \"\"\n",
    "index = len(user_input) - 1  \n",
    "while index >= 0:\n",
    "    reversed_string += user_input[index]  \n",
    "    index -= 1  \n",
    "print(\"Reversed string:\", reversed_string)\n"
   ]
  },
  {
   "cell_type": "code",
   "execution_count": 35,
   "id": "8c2d901a",
   "metadata": {},
   "outputs": [
    {
     "name": "stdout",
     "output_type": "stream",
     "text": [
      "Enter a non-negative integer: 5\n",
      "The factorial of 5 is: 120\n"
     ]
    }
   ],
   "source": [
    "#question-->15.  Write a Python program to calculate the factorial of a number provided by the user using a while loop.\n",
    "\n",
    "number = int(input(\"Enter a non-negative integer: \"))\n",
    "factorial = 1\n",
    "count = 1\n",
    "\n",
    "if number < 0:\n",
    "    print(\"Factorial is not defined for negative numbers.\")\n",
    "else:\n",
    "    \n",
    "    while count <= number:\n",
    "        factorial *= count  \n",
    "        count += 1  \n",
    "    \n",
    "    print(f\"The factorial of {number} is: {factorial}\")\n"
   ]
  },
  {
   "cell_type": "code",
   "execution_count": null,
   "id": "d0f1cfa8",
   "metadata": {},
   "outputs": [],
   "source": []
  }
 ],
 "metadata": {
  "kernelspec": {
   "display_name": "Python 3 (ipykernel)",
   "language": "python",
   "name": "python3"
  },
  "language_info": {
   "codemirror_mode": {
    "name": "ipython",
    "version": 3
   },
   "file_extension": ".py",
   "mimetype": "text/x-python",
   "name": "python",
   "nbconvert_exporter": "python",
   "pygments_lexer": "ipython3",
   "version": "3.10.9"
  }
 },
 "nbformat": 4,
 "nbformat_minor": 5
}
